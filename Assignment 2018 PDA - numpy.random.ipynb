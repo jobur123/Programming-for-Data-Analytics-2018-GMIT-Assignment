{
 "cells": [
  {
   "cell_type": "markdown",
   "metadata": {},
   "source": [
    "# Numpy.random Assignment 2018 Programming for Data Analytics\n",
    "\n"
   ]
  },
  {
   "cell_type": "markdown",
   "metadata": {},
   "source": [
    "## 1. The Purpose of the Numpy.random Package\n",
    "\n",
    "Numpy.random is a sub package of the numpy package. The random sub package is used to generate arrays of random numbers according to different statistical probability distributions across different intervals. Numpy.random uses multi-dimensional arrays. These ndarray objects allow you to store multiple items of the same data type. These are very efficient and have added functionality making them very easy to manipulate and convenient to work with.\n",
    "\n",
    "The numpy.ramdom package contains four sections. The simple random data section contains 10 different functions to generate a variety of sample random data. The permutation sections contains 2 functions to shuffle or rearrange data. The distribution section contains 35 functions generating random data according to their respective statistical distribution. The random generator section containing four functions relating to the seed. Each section will be looked at in more detail later in this notebook.\n",
    "\n",
    "They are many uses of random numbers in computing and analytics. Many elements of statistical practice depend on randomness via random numbers. Without these there is a risk that the statistical analysis could suffer from systematic bias. Simulation is used to get the results of experiments from generating random numbers simulation the events. A key use of unpredictable random numbers is in cryptogoraphy \n",
    "\n",
    "\n",
    "#### References\n",
    "\n",
    "* Uses of Numpy              https://www.datacamp.com/community/tutorials/python-numpy-tutorial\n",
    "\n",
    "* Uses of Random Numbers     https://en.wikipedia.org/wiki/Applications_of_randomness\n",
    "\n",
    "\n",
    "##### Import Python Libraries\n"
   ]
  },
  {
   "cell_type": "code",
   "execution_count": 1,
   "metadata": {
    "scrolled": true
   },
   "outputs": [],
   "source": [
    "#import of the python libraries used in this notebook\n",
    "import numpy as np\n",
    "import matplotlib.pyplot as plt\n",
    "%matplotlib inline"
   ]
  },
  {
   "cell_type": "markdown",
   "metadata": {},
   "source": [
    "## 2. Simple random data and permutation functions\n",
    "\n",
    "The simple random data functions generate random data of a certain type depending on the function used. I have selected a sample of three below to demonstrate how they are used, and show the uses and differences between them.\n",
    "\n",
    "#### random.rand\n",
    "\n",
    "This function is used to create a sample array of a given shape of random values between 0 and 1, including 0 and not 1 from a uniform distribution. The first argument is for the number of elements in each array, and each subsequent argument relates to the number of arrays. A 2D array will have two arguments a 3D array will have 3. \n",
    "\n"
   ]
  },
  {
   "cell_type": "code",
   "execution_count": 2,
   "metadata": {
    "scrolled": true
   },
   "outputs": [
    {
     "data": {
      "text/plain": [
       "0.4147481941771538"
      ]
     },
     "execution_count": 2,
     "metadata": {},
     "output_type": "execute_result"
    }
   ],
   "source": [
    "# If no argument is provided a float is returned.\n",
    "a = np.random.rand()\n",
    "a"
   ]
  },
  {
   "cell_type": "code",
   "execution_count": 3,
   "metadata": {
    "scrolled": true
   },
   "outputs": [
    {
     "data": {
      "text/plain": [
       "array([[[0.60446751, 0.2412888 , 0.78574359, 0.01510675],\n",
       "        [0.53344886, 0.59107343, 0.98170221, 0.02892068],\n",
       "        [0.67899086, 0.5674815 , 0.52969183, 0.3257075 ]],\n",
       "\n",
       "       [[0.03230291, 0.90593391, 0.02894361, 0.48312155],\n",
       "        [0.86727471, 0.56878836, 0.4285454 , 0.54278193],\n",
       "        [0.19384572, 0.63705926, 0.21416768, 0.2325398 ]]])"
      ]
     },
     "execution_count": 3,
     "metadata": {},
     "output_type": "execute_result"
    }
   ],
   "source": [
    "# A 3 dimensional filled with random values between 0 and 1\n",
    "b = np.random.rand(2,3,4)\n",
    "b"
   ]
  },
  {
   "cell_type": "code",
   "execution_count": 4,
   "metadata": {},
   "outputs": [
    {
     "data": {
      "text/plain": [
       "array([[[5.60446751, 5.2412888 , 5.78574359, 5.01510675],\n",
       "        [5.53344886, 5.59107343, 5.98170221, 5.02892068],\n",
       "        [5.67899086, 5.5674815 , 5.52969183, 5.3257075 ]],\n",
       "\n",
       "       [[5.03230291, 5.90593391, 5.02894361, 5.48312155],\n",
       "        [5.86727471, 5.56878836, 5.4285454 , 5.54278193],\n",
       "        [5.19384572, 5.63705926, 5.21416768, 5.2325398 ]]])"
      ]
     },
     "execution_count": 4,
     "metadata": {},
     "output_type": "execute_result"
    }
   ],
   "source": [
    "# adding 5 to each element in the array\n",
    "b = b + 5\n",
    "b"
   ]
  },
  {
   "cell_type": "code",
   "execution_count": 5,
   "metadata": {},
   "outputs": [
    {
     "data": {
      "text/plain": [
       "(array([ 9943.,  9905., 10092.,  9973., 10071.,  9973.,  9921.,  9968.,\n",
       "         9960., 10194.]),\n",
       " array([6.33940101e-06, 1.00005289e-01, 2.00004238e-01, 3.00003187e-01,\n",
       "        4.00002137e-01, 5.00001086e-01, 6.00000035e-01, 6.99998985e-01,\n",
       "        7.99997934e-01, 8.99996883e-01, 9.99995832e-01]),\n",
       " <a list of 10 Patch objects>)"
      ]
     },
     "execution_count": 5,
     "metadata": {},
     "output_type": "execute_result"
    },
    {
     "data": {
      "image/png": "[encoded data removed]",
      "text/plain": [
       "<Figure size 432x288 with 1 Axes>"
      ]
     },
     "metadata": {
      "needs_background": "light"
     },
     "output_type": "display_data"
    }
   ],
   "source": [
    "# Plot a histogram of the array showning how the random distribution plots equalyy\n",
    "c = np.random.rand(100000)\n",
    "plt.hist(c)\n",
    "\n",
    "                  "
   ]
  },
  {
   "cell_type": "markdown",
   "metadata": {},
   "source": [
    "The above histogram shows that the c array has a uniform or rectangular distribution with a similar number of elements in each bucket. With fewer elements the rectangular shape of the distribution would be a lot less evident.\n",
    "\n",
    "#### random.random_integers\n",
    "\n",
    "This function is used to generate random integers. The argurments it takes are the lowest signed integer; the highest integer; and the shape or size of the array. Where no highest value passed to the function the low value defaults to the high value. Where no size passed the default is 1 and a single integer is returned.\n"
   ]
  },
  {
   "cell_type": "code",
   "execution_count": 6,
   "metadata": {},
   "outputs": [
    {
     "name": "stderr",
     "output_type": "stream",
     "text": [
      "/home/jobur/anaconda/lib/python3.6/site-packages/ipykernel_launcher.py:2: DeprecationWarning: This function is deprecated. Please call randint(-5, 10 + 1) instead\n",
      "  \n"
     ]
    },
    {
     "data": {
      "text/plain": [
       "array([[-2, 10, -3],\n",
       "       [ 5, -5,  6]])"
      ]
     },
     "execution_count": 6,
     "metadata": {},
     "output_type": "execute_result"
    }
   ],
   "source": [
    "# A random 2 dimensional array of integers from -5 to 10 inclusive, each array having 3 elements.\n",
    "d = np.random.random_integers(-5,10,(2,3))\n",
    "d\n"
   ]
  },
  {
   "cell_type": "markdown",
   "metadata": {},
   "source": [
    "#### random.choice\n",
    "\n",
    "The choice function generates a random sample the elements of 1D array. If an integer > 0 is passed to the function it \n",
    "generates a random integer including 0 from 0 to the integer excluding the ineteger.\n",
    "The 2nd argument passed to the function specifies the number of random samples you generate. Probabilites for each element of the array can also be set.\n",
    "\n",
    "Examples of how to use the choice function below:"
   ]
  },
  {
   "cell_type": "code",
   "execution_count": 7,
   "metadata": {},
   "outputs": [
    {
     "data": {
      "text/plain": [
       "array([0, 0, 0, 0, 0, 0, 0, 0, 0, 0])"
      ]
     },
     "execution_count": 7,
     "metadata": {},
     "output_type": "execute_result"
    }
   ],
   "source": [
    "# Return 10 random values from the integers 0-4 based on the probabilies per element\n",
    "e = np.random.choice(5, 10, p=[0.9, 0, 0.1, 0, 0])\n",
    "e\n"
   ]
  },
  {
   "cell_type": "code",
   "execution_count": 8,
   "metadata": {},
   "outputs": [
    {
     "data": {
      "text/plain": [
       "array([0.65891368, 0.17590108, 0.67845299, 0.86083023])"
      ]
     },
     "execution_count": 8,
     "metadata": {},
     "output_type": "execute_result"
    }
   ],
   "source": [
    "# Return 4 random values from the c array\n",
    "np.random.choice(c,4)"
   ]
  },
  {
   "cell_type": "code",
   "execution_count": 9,
   "metadata": {},
   "outputs": [
    {
     "data": {
      "text/plain": [
       "1"
      ]
     },
     "execution_count": 9,
     "metadata": {},
     "output_type": "execute_result"
    }
   ],
   "source": [
    "# Chose a random number from 0 - 8\n",
    "np.random.choice(9)\n"
   ]
  },
  {
   "cell_type": "markdown",
   "metadata": {},
   "source": [
    "#### Permutation functions\n",
    "\n",
    "There are two permutaion functions shuffle and permutation. These are used to mix or shuffle randomly.\n",
    "\n",
    "**Shuffle** randomly mixes/shuffles the elements of an array in place. If an integer is passed to the shuffle function it returns an error. For multi-demensional arrays it shuffles the arrays in the matrix but not the elements of the arrays"
   ]
  },
  {
   "cell_type": "code",
   "execution_count": 10,
   "metadata": {},
   "outputs": [
    {
     "data": {
      "text/plain": [
       "array([0, 1, 2, 3, 4, 5, 6, 7, 8, 9])"
      ]
     },
     "execution_count": 10,
     "metadata": {},
     "output_type": "execute_result"
    }
   ],
   "source": [
    "# create an array f vith values from 0-9\n",
    "f = np.arange(10)\n",
    "f"
   ]
  },
  {
   "cell_type": "code",
   "execution_count": 11,
   "metadata": {},
   "outputs": [
    {
     "data": {
      "text/plain": [
       "array([3, 8, 2, 9, 6, 0, 4, 7, 1, 5])"
      ]
     },
     "execution_count": 11,
     "metadata": {},
     "output_type": "execute_result"
    }
   ],
   "source": [
    "# Shuffles or mix the elements in place\n",
    "np.random.shuffle(f)\n",
    "f"
   ]
  },
  {
   "cell_type": "code",
   "execution_count": 12,
   "metadata": {},
   "outputs": [
    {
     "data": {
      "text/plain": [
       "array([[3, 8],\n",
       "       [2, 9],\n",
       "       [6, 0],\n",
       "       [4, 7],\n",
       "       [1, 5]])"
      ]
     },
     "execution_count": 12,
     "metadata": {},
     "output_type": "execute_result"
    }
   ],
   "source": [
    "# Reshape the f array two a 2D array \n",
    "f = f.reshape(5,2)\n",
    "f"
   ]
  },
  {
   "cell_type": "code",
   "execution_count": 13,
   "metadata": {},
   "outputs": [
    {
     "data": {
      "text/plain": [
       "array([[6, 0],\n",
       "       [4, 7],\n",
       "       [1, 5],\n",
       "       [2, 9],\n",
       "       [3, 8]])"
      ]
     },
     "execution_count": 13,
     "metadata": {},
     "output_type": "execute_result"
    }
   ],
   "source": [
    "# Shuffle the reshapen array\n",
    "np.random.shuffle(f)\n",
    "f"
   ]
  },
  {
   "cell_type": "markdown",
   "metadata": {},
   "source": [
    "Shuffle only shuffles a multi-demensional array along it's first axis, the elements of the second and subsequent axis remain in the same positions as above.\n",
    "\n",
    "The **Permutation function** has two differences to the shuffle function. It returns a shuffled copy of an array and does not shuffle the array in place. If an integer is passed to the permutation function it will return a shuffled range up to not including the integer.\n",
    "\n",
    "Examples below:"
   ]
  },
  {
   "cell_type": "code",
   "execution_count": 14,
   "metadata": {},
   "outputs": [
    {
     "data": {
      "text/plain": [
       "array([[3, 8],\n",
       "       [2, 9],\n",
       "       [4, 7],\n",
       "       [6, 0],\n",
       "       [1, 5]])"
      ]
     },
     "execution_count": 14,
     "metadata": {},
     "output_type": "execute_result"
    }
   ],
   "source": [
    "np.random.permutation(f)"
   ]
  },
  {
   "cell_type": "code",
   "execution_count": 15,
   "metadata": {},
   "outputs": [
    {
     "data": {
      "text/plain": [
       "array([[6, 0],\n",
       "       [4, 7],\n",
       "       [1, 5],\n",
       "       [2, 9],\n",
       "       [3, 8]])"
      ]
     },
     "execution_count": 15,
     "metadata": {},
     "output_type": "execute_result"
    }
   ],
   "source": [
    "# The array is returned in the same state as it was before the permutation as a copy was returned above\n",
    "f"
   ]
  },
  {
   "cell_type": "code",
   "execution_count": 16,
   "metadata": {},
   "outputs": [
    {
     "data": {
      "text/plain": [
       "array([3, 4, 2, 8, 5, 7, 0, 1, 6, 9])"
      ]
     },
     "execution_count": 16,
     "metadata": {},
     "output_type": "execute_result"
    }
   ],
   "source": [
    "# Return a random sample of the range 0-9 inclusive\n",
    "np.random.permutation(10)"
   ]
  },
  {
   "cell_type": "markdown",
   "metadata": {},
   "source": [
    "## 3. Distribution functions\n",
    "\n",
    "Probability distributions are fundamental to statistics. Understanding which probability distribution function fits  your population is important for analysis and simulation. You can use probability plots to identify whether your data follows a particular probability distribution. The random subpackage contains 35 of the most common distributions, allowing you to generate random data from each of these. I will look at a sample of five of these below.\n",
    "\n",
    "This chart highlights the relationship between some of the main probability distributions.\n",
    "\n",
    " <img src=\"Probability distribution.png\">\n",
    " \n",
    " \n",
    " \n",
    " "
   ]
  },
  {
   "cell_type": "markdown",
   "metadata": {},
   "source": [
    "#### random.uniform\n",
    "\n",
    "In this ditribution all outcomes are equally likely to occur. The example of rolling a dice could be used to illustrate this. Each number from 1 to 6 is equally likely to be rolled. If the dice are rolled enough times this should result in a rectangular looking distribution as per the first histogram below.\n",
    "\n",
    " numpy.random.uniform(low=0.0, high=1.0, size=None)\n",
    " \n",
    "The size and shape of the array are specified by the third argument and can be a multi-demensional matrix. The output of the array will be random floats and not integers. \n",
    " "
   ]
  },
  {
   "cell_type": "code",
   "execution_count": 17,
   "metadata": {},
   "outputs": [
    {
     "data": {
      "text/plain": [
       "array([4.63250658, 1.67719607, 6.39125617, ..., 1.27511189, 4.10657221,\n",
       "       6.16783027])"
      ]
     },
     "execution_count": 17,
     "metadata": {},
     "output_type": "execute_result"
    }
   ],
   "source": [
    "# Generate a sample array of random data from 1 to 7 excluding 7 with 1000 elements\n",
    "g = np.random.uniform(1,7,10000)\n",
    "g"
   ]
  },
  {
   "cell_type": "code",
   "execution_count": 18,
   "metadata": {},
   "outputs": [
    {
     "data": {
      "text/plain": [
       "(array([ 962., 1002., 1028., 1002.,  994.,  977., 1023.,  973., 1055.,\n",
       "         984.]),\n",
       " array([1.00060532, 1.60034608, 2.20008685, 2.79982761, 3.39956837,\n",
       "        3.99930914, 4.5990499 , 5.19879067, 5.79853143, 6.39827219,\n",
       "        6.99801296]),\n",
       " <a list of 10 Patch objects>)"
      ]
     },
     "execution_count": 18,
     "metadata": {},
     "output_type": "execute_result"
    },
    {
     "data": {
      "image/png": "[encoded data removed]",
      "text/plain": [
       "<Figure size 432x288 with 1 Axes>"
      ]
     },
     "metadata": {
      "needs_background": "light"
     },
     "output_type": "display_data"
    }
   ],
   "source": [
    "plt.hist(g)"
   ]
  },
  {
   "cell_type": "markdown",
   "metadata": {},
   "source": [
    "#### random.binomial\n",
    "\n",
    "The bernoulli distribution is a discrete probability distribution suitable for a random experiment with only two outcomes. Each event in the trial must be independent, they must be seperate from the prior event. The binomial distribution can be thought of as the sum of the outcomes of things that follow the bernoulli distribution. \n",
    "\n",
    "This function generates random samples of a binomial distribution.\n",
    "\n",
    "So if a coin is tossed 10 times how many times would it come up heads. A function showing n = 10, p = .5 (the probability of heads); size = 10,000 (the number of times this was tested).\n",
    "\n",
    "binomial(n, p[, size])\n"
   ]
  },
  {
   "cell_type": "code",
   "execution_count": 19,
   "metadata": {},
   "outputs": [
    {
     "data": {
      "text/plain": [
       "array([5, 6, 5, ..., 6, 5, 3])"
      ]
     },
     "execution_count": 19,
     "metadata": {},
     "output_type": "execute_result"
    }
   ],
   "source": [
    "h = np.random.binomial(10, .5, 10000)\n",
    "h"
   ]
  },
  {
   "cell_type": "code",
   "execution_count": 20,
   "metadata": {},
   "outputs": [
    {
     "data": {
      "text/plain": [
       "(array([  11.,   92.,  432., 1148., 2008., 2515., 2035., 1190.,  461.,\n",
       "         108.]),\n",
       " array([ 0.,  1.,  2.,  3.,  4.,  5.,  6.,  7.,  8.,  9., 10.]),\n",
       " <a list of 10 Patch objects>)"
      ]
     },
     "execution_count": 20,
     "metadata": {},
     "output_type": "execute_result"
    },
    {
     "data": {
      "image/png": "[encoded data removed]",
      "text/plain": [
       "<Figure size 432x288 with 1 Axes>"
      ]
     },
     "metadata": {
      "needs_background": "light"
     },
     "output_type": "display_data"
    }
   ],
   "source": [
    "plt.hist(h)"
   ]
  },
  {
   "cell_type": "markdown",
   "metadata": {},
   "source": [
    "#### random.hypergeometric\n",
    "\n",
    "The hypergeomtric is very similar to the binomial distribution. There are two outcomes but events are not independent. Each time a sample is drawn it is not replaced. For a very large sample it would appear to be very similar to the binomial distribution.\n",
    "\n",
    "The function draws samples from  a hypergeometric distribution.\n",
    "\n",
    "hypergeometric(ngood, nbad, nsample[, size]\n",
    "\n",
    "ngood - the number of ways to make a good selection\n",
    "nbad - the number of ways to make a bad selection\n",
    "nsample - must be at least 1 and at most ngood + nbad\n",
    "\n",
    "Of the 52 cards in a deck 26 are black suited and 26 red. If the deck is well shuffled how likely is it that 12 of the first 15 cards are dealt are either red or black.\n"
   ]
  },
  {
   "cell_type": "code",
   "execution_count": 21,
   "metadata": {},
   "outputs": [
    {
     "data": {
      "text/plain": [
       "0.00069"
      ]
     },
     "execution_count": 21,
     "metadata": {},
     "output_type": "execute_result"
    }
   ],
   "source": [
    "# What the chances of 12 of 15 random cards being the same colour if tested 10,000 times\n",
    "i = np.random.hypergeometric(26, 26, 15, 10000)\n",
    "sum(i>=12)/100000 + sum(i<=3/100000)"
   ]
  },
  {
   "cell_type": "markdown",
   "metadata": {},
   "source": [
    "The chances of this occuring is very unlikely."
   ]
  },
  {
   "cell_type": "markdown",
   "metadata": {},
   "source": [
    "#### random.geometric\n",
    "\n",
    "For a sequence of trials, where each trial has two possible outcomes, success or failure. The probability of success is assumed to be the same for each trial. The geometric distribution is used to model the number of failures that must be run to get a success. \n",
    "\n",
    "geometric(p[, size]) p is the probability of success.\n"
   ]
  },
  {
   "cell_type": "code",
   "execution_count": 22,
   "metadata": {},
   "outputs": [
    {
     "data": {
      "text/plain": [
       "0.5017"
      ]
     },
     "execution_count": 22,
     "metadata": {},
     "output_type": "execute_result"
    }
   ],
   "source": [
    "# The number of coin flips required to achieve a  \n",
    "j = np.random.geometric(p=0.5, size=10000)\n",
    "\n",
    "# how many trials succeeded after a single coin flip?\n",
    "(j == 1).sum() / 10000"
   ]
  },
  {
   "cell_type": "markdown",
   "metadata": {},
   "source": [
    "#### random.negative binomial\n",
    "\n",
    "It is the probability distribution of a certain number of failures and successes in a series of independent and identically distributed Bernoulli trials.\n",
    "\n",
    "The difference  between binomial and negative binomial:\n",
    "Both binomial and negative binomial distributions describe distribution of draws with replacement. The difference is the stopping rule that is used in both cases. Binomial distribution describes the number of successes k\n",
    "achieved in n trials, where probability of success is p. Negative binomial distribution describes the number of successes k until observing r failures (so any number of trials greater then r is possible), where probability of success is p. So in the first case the number of trials if fixed, while in the second case it is random, but the number of failures is fixed. \n",
    "\n",
    "n = the number of trials; p is the probability of success; \n",
    "\n",
    "negative_binomial(n, p[, size])\n",
    "\n",
    "This funcion draws samples from the negative binomial distribution."
   ]
  },
  {
   "cell_type": "code",
   "execution_count": 23,
   "metadata": {},
   "outputs": [
    {
     "data": {
      "text/plain": [
       "array([1])"
      ]
     },
     "execution_count": 23,
     "metadata": {},
     "output_type": "execute_result"
    }
   ],
   "source": [
    "np.random.negative_binomial(1, 0.1, 1)"
   ]
  },
  {
   "cell_type": "markdown",
   "metadata": {},
   "source": [
    "#### References\n",
    "\n",
    "* Probability distrtibutions              http://blog.cloudera.com/blog/2015/12/common-probability-distributions-the-data-scientists-crib-sheet/\n",
    "* Probability distrtibutions              http://statisticsbyjim.com/basics/probability-distributions/\n",
    "* Which probability distrtibutions        http://statisticsbyjim.com/hypothesis-testing/identify-distribution-data\n",
    "* Bernoulli distribution                  https://www.statisticshowto.datasciencecentral.com/bernoulli-distribution/\n",
    "* Negative binomial distribution          https://www.statisticshowto.datasciencecentral.com/bernoulli-distribution/\n",
    "* Geometric distribution                  https://en.wikipedia.org/wiki/Geometric_distribution#Introduction_to_the_geometric_distribution\n",
    "\n",
    "     \n"
   ]
  },
  {
   "cell_type": "markdown",
   "metadata": {},
   "source": [
    "## 4. Seeds\n",
    "\n",
    "The fourth section of this package is the random number genator. Numpy.random uses the Mersenne Twister pseudo-random number generating algorithm. \n",
    "\n",
    "Computers are not able to generate true random numbers but instead use mathematical formulae or sequences of numbers that appear random. These would contain no pattern or repitition. The seed is the position you start generating the random numbers from in the sequence.\n",
    "\n",
    "It is possible to set the seed and this is useful to generate the same random numbers when testing or developing a model. I will demonstrate this below.\n"
   ]
  },
  {
   "cell_type": "code",
   "execution_count": 24,
   "metadata": {},
   "outputs": [
    {
     "name": "stderr",
     "output_type": "stream",
     "text": [
      "/home/jobur/anaconda/lib/python3.6/site-packages/ipykernel_launcher.py:5: DeprecationWarning: This function is deprecated. Please call randint(0, 10 + 1) instead\n",
      "  \"\"\"\n"
     ]
    },
    {
     "data": {
      "text/plain": [
       "array([10,  8,  9,  3,  8])"
      ]
     },
     "execution_count": 24,
     "metadata": {},
     "output_type": "execute_result"
    }
   ],
   "source": [
    "# set the seed \n",
    "np.random.seed(3)\n",
    "\n",
    "# Generate an array of 5 random integers from 0 to 10\n",
    "np.random.random_integers(0,10,5)"
   ]
  },
  {
   "cell_type": "code",
   "execution_count": 25,
   "metadata": {
    "scrolled": true
   },
   "outputs": [
    {
     "name": "stderr",
     "output_type": "stream",
     "text": [
      "/home/jobur/anaconda/lib/python3.6/site-packages/ipykernel_launcher.py:2: DeprecationWarning: This function is deprecated. Please call randint(0, 10 + 1) instead\n",
      "  \n"
     ]
    },
    {
     "data": {
      "text/plain": [
       "array([ 8,  0,  5,  3, 10])"
      ]
     },
     "execution_count": 25,
     "metadata": {},
     "output_type": "execute_result"
    }
   ],
   "source": [
    "# Generate an array of 5 random integers from 0 to 10\n",
    "np.random.random_integers(0,10,5)\n"
   ]
  },
  {
   "cell_type": "code",
   "execution_count": 26,
   "metadata": {},
   "outputs": [
    {
     "name": "stderr",
     "output_type": "stream",
     "text": [
      "/home/jobur/anaconda/lib/python3.6/site-packages/ipykernel_launcher.py:5: DeprecationWarning: This function is deprecated. Please call randint(0, 10 + 1) instead\n",
      "  \"\"\"\n"
     ]
    },
    {
     "data": {
      "text/plain": [
       "array([10,  8,  9,  3,  8])"
      ]
     },
     "execution_count": 26,
     "metadata": {},
     "output_type": "execute_result"
    }
   ],
   "source": [
    "# set the seed \n",
    "np.random.seed(3)\n",
    "\n",
    "# Generate an array of 5 random integers from 0 to 10\n",
    "np.random.random_integers(0,10,5)"
   ]
  },
  {
   "cell_type": "markdown",
   "metadata": {},
   "source": [
    "The first two arrays had different random numbers. By setting the seed to 3 again I generated the same array."
   ]
  },
  {
   "cell_type": "markdown",
   "metadata": {},
   "source": [
    "#### References\n",
    "\n",
    "* Seed                                   https://www.packtpub.com/mapt/book/big_data_and_business_intelligence/9781785285110/2/ch02lvl1sec16/numpy-random-numbers\n",
    "* Random Number Generation               https://www.random.org/randomness/\n",
    "* Truly random numbers                   https://www.techrepublic.com/article/computer-scientists-derive-truly-random-numbers-using-two-source-extractors/\n"
   ]
  },
  {
   "cell_type": "markdown",
   "metadata": {},
   "source": [
    "### Acknowledgements\n",
    "\n",
    "GMIT data analytics coursework,lectures, forum and slack channel. \n",
    "\n",
    "Numpy documentation https://docs.scipy.org/doc/numpy/\n",
    "\n",
    "Background and understanding of probability distributions: \"https://www.stattrek.com/\"\n",
    "\n",
    "Python for Data Analysis, William McKinney\n",
    "\n",
    "\n",
    "\n",
    "\n",
    "\n",
    "\n"
   ]
  }
 ],
 "metadata": {
  "kernelspec": {
   "display_name": "Python 3",
   "language": "python",
   "name": "python3"
  },
  "language_info": {
   "codemirror_mode": {
    "name": "ipython",
    "version": 3
   },
   "file_extension": ".py",
   "mimetype": "text/x-python",
   "name": "python",
   "nbconvert_exporter": "python",
   "pygments_lexer": "ipython3",
   "version": "3.6.6"
  }
 },
 "nbformat": 4,
 "nbformat_minor": 2
}
